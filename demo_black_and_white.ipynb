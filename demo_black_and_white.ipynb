{
 "cells": [
  {
   "cell_type": "code",
   "execution_count": null,
   "metadata": {},
   "outputs": [],
   "source": [
    "import gym\n",
    "import random\n",
    "\n",
    "# Frame list collector\n",
    "frames = []\n",
    "STEPS = 300\n",
    "\n",
    "# code for the two only actions in Pong\n",
    "UP_ACTION = 2\n",
    "DOWN_ACTION = 3\n",
    "\n",
    "# initializing our environment\n",
    "env = gym.make(\"Pong-v0\")\n",
    "\n",
    "# beginning of an episode\n",
    "observation = env.reset()"
   ]
  },
  {
   "cell_type": "code",
   "execution_count": null,
   "metadata": {},
   "outputs": [],
   "source": [
    "from karpathy import prepro\n",
    "import numpy as np\n",
    "\n",
    "prev_input = None\n",
    "\n",
    "# main loop\n",
    "for i in range(STEPS):\n",
    "        \n",
    "    # choose random action\n",
    "    action = random.randint(UP_ACTION, DOWN_ACTION)\n",
    "\n",
    "    #run one step\n",
    "    observation, reward, done, info = env.step(action)\n",
    "\n",
    "    # preprocess the observation, set input as difference between images\n",
    "    cur_input = prepro(observation)\n",
    "    x = cur_input - prev_input if prev_input is not None else np.zeros(80 * 80)\n",
    "    prev_input = cur_input\n",
    "\n",
    "    frames.append(x.reshape(80,80).astype('uint8')) # collecting observation\n",
    "\n",
    "    # if episode is over, reset to beginning\n",
    "    if done:\n",
    "        observation = env.reset()\n",
    "        frames.append(x.reshape(80,80).astype('uint8')) # collecting observation"
   ]
  },
  {
   "cell_type": "code",
   "execution_count": null,
   "metadata": {},
   "outputs": [],
   "source": [
    "from support import save_frames_as_gif\n",
    "from matplotlib import animation\n",
    "from PIL import Image\n",
    "\n",
    "frames_bis = []\n",
    "for x in frames[150:]:\n",
    "    frames_bis.append(Image.fromarray(x))\n",
    "\n",
    "# Save the run\n",
    "save_frames_as_gif(frames_bis, filename='pong-random-300-steps-black-and-white.gif')"
   ]
  }
 ],
 "metadata": {
  "kernelspec": {
   "display_name": "Python 3",
   "language": "python",
   "name": "python3"
  },
  "language_info": {
   "codemirror_mode": {
    "name": "ipython",
    "version": 3
   },
   "file_extension": ".py",
   "mimetype": "text/x-python",
   "name": "python",
   "nbconvert_exporter": "python",
   "pygments_lexer": "ipython3",
   "version": "3.6.5"
  }
 },
 "nbformat": 4,
 "nbformat_minor": 2
}
